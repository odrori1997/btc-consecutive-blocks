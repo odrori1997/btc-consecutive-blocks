{
 "cells": [
  {
   "cell_type": "code",
   "execution_count": 1,
   "id": "d27a913c",
   "metadata": {
    "_cell_guid": "b1076dfc-b9ad-4769-8c92-a6c4dae69d19",
    "_uuid": "8f2839f25d086af736a60e9eeb907d3b93b6e0e5",
    "execution": {
     "iopub.execute_input": "2022-03-15T04:37:38.845585Z",
     "iopub.status.busy": "2022-03-15T04:37:38.844951Z",
     "iopub.status.idle": "2022-03-15T04:37:49.683014Z",
     "shell.execute_reply": "2022-03-15T04:37:49.683578Z",
     "shell.execute_reply.started": "2022-03-15T04:05:10.654601Z"
    },
    "papermill": {
     "duration": 10.856158,
     "end_time": "2022-03-15T04:37:49.683924",
     "exception": false,
     "start_time": "2022-03-15T04:37:38.827766",
     "status": "completed"
    },
    "tags": []
   },
   "outputs": [
    {
     "name": "stdout",
     "output_type": "stream",
     "text": [
      "Using Kaggle's public dataset BigQuery integration.\n",
      "Using Kaggle's public dataset BigQuery integration.\n"
     ]
    },
    {
     "name": "stderr",
     "output_type": "stream",
     "text": [
      "/opt/conda/lib/python3.7/site-packages/google/cloud/bigquery/client.py:440: UserWarning: Cannot create BigQuery Storage client, the dependency google-cloud-bigquery-storage is not installed.\n",
      "  \"Cannot create BigQuery Storage client, the dependency \"\n"
     ]
    },
    {
     "name": "stdout",
     "output_type": "stream",
     "text": [
      "Size of dataframe: 4324800 Bytes\n"
     ]
    },
    {
     "data": {
      "text/html": [
       "<div>\n",
       "<style scoped>\n",
       "    .dataframe tbody tr th:only-of-type {\n",
       "        vertical-align: middle;\n",
       "    }\n",
       "\n",
       "    .dataframe tbody tr th {\n",
       "        vertical-align: top;\n",
       "    }\n",
       "\n",
       "    .dataframe thead th {\n",
       "        text-align: right;\n",
       "    }\n",
       "</style>\n",
       "<table border=\"1\" class=\"dataframe\">\n",
       "  <thead>\n",
       "    <tr style=\"text-align: right;\">\n",
       "      <th></th>\n",
       "      <th>timestamp</th>\n",
       "    </tr>\n",
       "  </thead>\n",
       "  <tbody>\n",
       "    <tr>\n",
       "      <th>0</th>\n",
       "      <td>1231469665000</td>\n",
       "    </tr>\n",
       "    <tr>\n",
       "      <th>1</th>\n",
       "      <td>1231469744000</td>\n",
       "    </tr>\n",
       "    <tr>\n",
       "      <th>2</th>\n",
       "      <td>1231470173000</td>\n",
       "    </tr>\n",
       "    <tr>\n",
       "      <th>3</th>\n",
       "      <td>1231470988000</td>\n",
       "    </tr>\n",
       "    <tr>\n",
       "      <th>4</th>\n",
       "      <td>1231471428000</td>\n",
       "    </tr>\n",
       "    <tr>\n",
       "      <th>5</th>\n",
       "      <td>1231471789000</td>\n",
       "    </tr>\n",
       "    <tr>\n",
       "      <th>6</th>\n",
       "      <td>1231472369000</td>\n",
       "    </tr>\n",
       "    <tr>\n",
       "      <th>7</th>\n",
       "      <td>1231472743000</td>\n",
       "    </tr>\n",
       "    <tr>\n",
       "      <th>8</th>\n",
       "      <td>1231473279000</td>\n",
       "    </tr>\n",
       "    <tr>\n",
       "      <th>9</th>\n",
       "      <td>1231473952000</td>\n",
       "    </tr>\n",
       "  </tbody>\n",
       "</table>\n",
       "</div>"
      ],
      "text/plain": [
       "       timestamp\n",
       "0  1231469665000\n",
       "1  1231469744000\n",
       "2  1231470173000\n",
       "3  1231470988000\n",
       "4  1231471428000\n",
       "5  1231471789000\n",
       "6  1231472369000\n",
       "7  1231472743000\n",
       "8  1231473279000\n",
       "9  1231473952000"
      ]
     },
     "execution_count": 1,
     "metadata": {},
     "output_type": "execute_result"
    }
   ],
   "source": [
    "import numpy as np \n",
    "import pandas as pd\n",
    "from google.cloud import bigquery\n",
    "# https://github.com/SohierDane/BigQuery_Helper\n",
    "from bq_helper import BigQueryHelper\n",
    "\n",
    "client = bigquery.Client()\n",
    "   \n",
    "query = \"\"\"\n",
    "    #standardSQL\n",
    "    SELECT\n",
    "        timestamp\n",
    "    FROM \n",
    "         `bigquery-public-data.bitcoin_blockchain.blocks`\n",
    "    ORDER BY\n",
    "        timestamp\n",
    "    \"\"\"\n",
    "\n",
    "# This establishes an authenticated session and prepares a reference to the dataset that lives in BigQuery.\n",
    "bq_assistant = BigQueryHelper(\"bigquery-public-data\", \"bitcoin_blockchain\")\n",
    "\n",
    "\n",
    "df = bq_assistant.query_to_pandas_safe(query, max_gb_scanned=1000)\n",
    "print('Size of dataframe: {} Bytes'.format(int(df.memory_usage(index=True, deep=True).sum())))\n",
    "\n",
    "# Look at the first 10 headlines\n",
    "df.head(10)"
   ]
  },
  {
   "cell_type": "code",
   "execution_count": 2,
   "id": "b3726661",
   "metadata": {
    "execution": {
     "iopub.execute_input": "2022-03-15T04:37:49.707080Z",
     "iopub.status.busy": "2022-03-15T04:37:49.706334Z",
     "iopub.status.idle": "2022-03-15T04:37:49.712640Z",
     "shell.execute_reply": "2022-03-15T04:37:49.713188Z",
     "shell.execute_reply.started": "2022-03-15T04:05:23.926450Z"
    },
    "papermill": {
     "duration": 0.019284,
     "end_time": "2022-03-15T04:37:49.713363",
     "exception": false,
     "start_time": "2022-03-15T04:37:49.694079",
     "status": "completed"
    },
    "tags": []
   },
   "outputs": [],
   "source": [
    "original = df.copy() # save a copy in case we need to restore"
   ]
  },
  {
   "cell_type": "code",
   "execution_count": 3,
   "id": "527dd326",
   "metadata": {
    "execution": {
     "iopub.execute_input": "2022-03-15T04:37:49.735749Z",
     "iopub.status.busy": "2022-03-15T04:37:49.735072Z",
     "iopub.status.idle": "2022-03-15T04:37:50.449335Z",
     "shell.execute_reply": "2022-03-15T04:37:50.448652Z",
     "shell.execute_reply.started": "2022-03-15T04:05:23.934902Z"
    },
    "papermill": {
     "duration": 0.726512,
     "end_time": "2022-03-15T04:37:50.449487",
     "exception": false,
     "start_time": "2022-03-15T04:37:49.722975",
     "status": "completed"
    },
    "tags": []
   },
   "outputs": [
    {
     "name": "stdout",
     "output_type": "stream",
     "text": [
      "                  timestamp\n",
      "count                540584\n",
      "unique               540333\n",
      "top     2012-03-07 02:43:22\n",
      "freq                      2\n",
      "first   2009-01-09 02:54:25\n",
      "last    2018-09-10 13:23:25\n",
      "                       timestamp\n",
      "count                     540583\n",
      "mean   0 days 00:09:24.420523767\n",
      "std    0 days 00:11:14.035570152\n",
      "min              0 days 00:00:00\n",
      "25%              0 days 00:02:43\n",
      "50%              0 days 00:06:29\n",
      "75%              0 days 00:12:54\n",
      "max              1 days 04:47:37\n"
     ]
    },
    {
     "name": "stderr",
     "output_type": "stream",
     "text": [
      "/opt/conda/lib/python3.7/site-packages/ipykernel_launcher.py:11: FutureWarning: Treating datetime data as categorical rather than numeric in `.describe` is deprecated and will be removed in a future version of pandas. Specify `datetime_is_numeric=True` to silence this warning and adopt the future behavior now.\n",
      "  # This is added back by InteractiveShellApp.init_path()\n"
     ]
    }
   ],
   "source": [
    "from datetime import datetime\n",
    "\n",
    "df = original.copy()\n",
    "df = df.sort_values(by=['timestamp'], ascending=True)\n",
    "\n",
    "# Data Exploration\n",
    "\n",
    "# Convert timestamp to datetime. it will be easier to read (especially the time-delta's)\n",
    "ts_col = df['timestamp'].div(1000.0)\n",
    "df['timestamp'] = ts_col.apply(datetime.fromtimestamp)\n",
    "print(df.describe())\n",
    "summary = df.diff().describe()\n",
    "print(summary)\n",
    "\n",
    "# From results, we see that the time range is 2009-01-09 -> 2018-09-10\n",
    "# Also, the greatest block delay was 1 day and 4:47:00! \n",
    "# Note that 75th percentile of block times is only 00:12:54. Clearly block times of 02:00:00 are rare. "
   ]
  },
  {
   "cell_type": "code",
   "execution_count": 4,
   "id": "c354efd9",
   "metadata": {
    "execution": {
     "iopub.execute_input": "2022-03-15T04:37:50.478164Z",
     "iopub.status.busy": "2022-03-15T04:37:50.476762Z",
     "iopub.status.idle": "2022-03-15T04:37:51.378470Z",
     "shell.execute_reply": "2022-03-15T04:37:51.377942Z",
     "shell.execute_reply.started": "2022-03-15T04:05:24.442044Z"
    },
    "papermill": {
     "duration": 0.918757,
     "end_time": "2022-03-15T04:37:51.378631",
     "exception": false,
     "start_time": "2022-03-15T04:37:50.459874",
     "status": "completed"
    },
    "tags": []
   },
   "outputs": [
    {
     "name": "stdout",
     "output_type": "stream",
     "text": [
      "2018-09-10 13:23:25\n"
     ]
    },
    {
     "data": {
      "image/png": "[encoded data removed]",
      "text/plain": [
       "<Figure size 432x288 with 1 Axes>"
      ]
     },
     "metadata": {
      "needs_background": "light"
     },
     "output_type": "display_data"
    }
   ],
   "source": [
    "df.diff().plot(kind='line')\n",
    "maxidx = df.idxmax()\n",
    "print(df['timestamp'][maxidx['timestamp']])"
   ]
  },
  {
   "cell_type": "code",
   "execution_count": 5,
   "id": "799b8aa1",
   "metadata": {
    "execution": {
     "iopub.execute_input": "2022-03-15T04:37:51.410654Z",
     "iopub.status.busy": "2022-03-15T04:37:51.409877Z",
     "iopub.status.idle": "2022-03-15T04:37:58.388057Z",
     "shell.execute_reply": "2022-03-15T04:37:58.387391Z",
     "shell.execute_reply.started": "2022-03-15T04:05:25.332349Z"
    },
    "papermill": {
     "duration": 6.998043,
     "end_time": "2022-03-15T04:37:58.388223",
     "exception": false,
     "start_time": "2022-03-15T04:37:51.390180",
     "status": "completed"
    },
    "tags": []
   },
   "outputs": [
    {
     "name": "stdout",
     "output_type": "stream",
     "text": [
      "        timestamp\n",
      "1 0 days 00:01:19\n",
      "2 0 days 00:07:09\n",
      "3 0 days 00:13:35\n",
      "4 0 days 00:07:20\n",
      "5 0 days 00:06:01\n",
      "                       timestamp\n",
      "count                     540583\n",
      "mean   0 days 00:09:24.420523767\n",
      "std    0 days 00:11:14.035570152\n",
      "min              0 days 00:00:00\n",
      "25%              0 days 00:02:43\n",
      "50%              0 days 00:06:29\n",
      "75%              0 days 00:12:54\n",
      "max              1 days 04:47:37\n",
      "timestamp    timedelta64[ns]\n",
      "dtype: object\n",
      "429.0\n",
      "           timestamp\n",
      "count  540583.000000\n",
      "mean      564.420524\n",
      "std       674.035570\n",
      "min         0.000000\n",
      "25%       163.000000\n",
      "50%       389.000000\n",
      "75%       774.000000\n",
      "max    103657.000000\n",
      "564.4205237678581\n",
      "674.0355701521313\n"
     ]
    }
   ],
   "source": [
    "from scipy.stats import norm\n",
    "from datetime import datetime, timedelta\n",
    "import numpy as np\n",
    "\n",
    "# More data processing\n",
    "\n",
    "df = df.diff()\n",
    "df = df.dropna() # since we have a column of diffs, the first entry will need to be ignored\n",
    "\n",
    "print(df.head())\n",
    "print(df.describe())\n",
    "print(df.dtypes)\n",
    "\n",
    "# convert timedelta type to a float (seconds)\n",
    "\n",
    "print(df['timestamp'][2].total_seconds())\n",
    "df['timestamp'] = df['timestamp'].apply(lambda x: x.total_seconds())\n",
    "\n",
    "float_summary = df.describe()\n",
    "print(float_summary)\n",
    "\n",
    "time_threshold = timedelta(hours=2).total_seconds()\n",
    "print(float_summary[\"timestamp\"][1]) # mean\n",
    "print(float_summary[\"timestamp\"][2]) # standard dev"
   ]
  },
  {
   "cell_type": "code",
   "execution_count": 6,
   "id": "72c2acb8",
   "metadata": {
    "execution": {
     "iopub.execute_input": "2022-03-15T04:37:58.422040Z",
     "iopub.status.busy": "2022-03-15T04:37:58.421292Z",
     "iopub.status.idle": "2022-03-15T04:37:58.434369Z",
     "shell.execute_reply": "2022-03-15T04:37:58.435079Z",
     "shell.execute_reply.started": "2022-03-15T04:11:00.125504Z"
    },
    "papermill": {
     "duration": 0.034644,
     "end_time": "2022-03-15T04:37:58.435330",
     "exception": false,
     "start_time": "2022-03-15T04:37:58.400686",
     "status": "completed"
    },
    "tags": []
   },
   "outputs": [
    {
     "name": "stdout",
     "output_type": "stream",
     "text": [
      "0.0\n",
      "540583\n",
      "0.0\n",
      "2622.0\n",
      "141\n"
     ]
    }
   ],
   "source": [
    "# Statistical Analysis\n",
    "\n",
    "# calculate the cumulative density function (CDF)\n",
    "df_cdf = norm.cdf(time_threshold, float_summary[\"timestamp\"][1], float_summary[\"timestamp\"][2])\n",
    "\n",
    "# the expected number of blocks w/ block time > 2 hours is P(bt>2hrs) * # of blocks\n",
    "print((1 - df_cdf) * df.shape[0]) \n",
    "print(df.shape[0]) # number of rows\n",
    "\n",
    "# From the results clearly a block time > 2 hours is extremely rare, since 0 blocks are expected to have this quality. \n",
    "# Let's verify that this makes sense. \n",
    "\n",
    "print(1- df_cdf) # prob of block time greater than two hours is 1 - CDF. Result = 0% chance. \n",
    "print(df.timestamp.quantile(0.99)) # 99th percentile of block times is 2,622 seconds. 2 hours = 7,200 seconds, ~3x greater.\n",
    "\n",
    "print(len(df[df['timestamp'] > time_threshold])) # the actual number of blocks with block time > 2 hours. \n",
    "\n",
    "# Results from above: 141\n",
    "# Of 540,583 blocks examined only 141 had a block time of >= 2 hours. \n",
    "\n"
   ]
  }
 ],
 "metadata": {
  "kernelspec": {
   "display_name": "Python 3",
   "language": "python",
   "name": "python3"
  },
  "language_info": {
   "codemirror_mode": {
    "name": "ipython",
    "version": 3
   },
   "file_extension": ".py",
   "mimetype": "text/x-python",
   "name": "python",
   "nbconvert_exporter": "python",
   "pygments_lexer": "ipython3",
   "version": "3.7.12"
  },
  "papermill": {
   "default_parameters": {},
   "duration": 31.501257,
   "end_time": "2022-03-15T04:37:59.261076",
   "environment_variables": {},
   "exception": null,
   "input_path": "__notebook__.ipynb",
   "output_path": "__notebook__.ipynb",
   "parameters": {},
   "start_time": "2022-03-15T04:37:27.759819",
   "version": "2.3.3"
  }
 },
 "nbformat": 4,
 "nbformat_minor": 5
}
